{
 "cells": [
  {
   "attachments": {},
   "cell_type": "markdown",
   "metadata": {},
   "source": [
    "Verify authentication"
   ]
  },
  {
   "cell_type": "code",
   "execution_count": 2,
   "metadata": {},
   "outputs": [
    {
     "name": "stdout",
     "output_type": "stream",
     "text": [
      "{\n",
      "\t\"Regions\": {\n",
      "\t\t\"Region\": [\n",
      "\t\t\t{\n",
      "\t\t\t\t\"LocalName\": \"华北1（青岛）\",\n",
      "\t\t\t\t\"RegionEndpoint\": \"ecs.cn-qingdao.aliyuncs.com\",\n",
      "\t\t\t\t\"RegionId\": \"cn-qingdao\"\n",
      "\t\t\t},\n",
      "\t\t\t{\n",
      "\t\t\t\t\"LocalName\": \"华北2（北京）\",\n",
      "\t\t\t\t\"RegionEndpoint\": \"ecs.cn-beijing.aliyuncs.com\",\n",
      "\t\t\t\t\"RegionId\": \"cn-beijing\"\n",
      "\t\t\t},\n",
      "\t\t\t{\n",
      "\t\t\t\t\"LocalName\": \"华北3（张家口）\",\n",
      "\t\t\t\t\"RegionEndpoint\": \"ecs.cn-zhangjiakou.aliyuncs.com\",\n",
      "\t\t\t\t\"RegionId\": \"cn-zhangjiakou\"\n",
      "\t\t\t},\n",
      "\t\t\t{\n",
      "\t\t\t\t\"LocalName\": \"华北5（呼和浩特）\",\n",
      "\t\t\t\t\"RegionEndpoint\": \"ecs.cn-huhehaote.aliyuncs.com\",\n",
      "\t\t\t\t\"RegionId\": \"cn-huhehaote\"\n",
      "\t\t\t},\n",
      "\t\t\t{\n",
      "\t\t\t\t\"LocalName\": \"华北6（乌兰察布）\",\n",
      "\t\t\t\t\"RegionEndpoint\": \"ecs.cn-wulanchabu.aliyuncs.com\",\n",
      "\t\t\t\t\"RegionId\": \"cn-wulanchabu\"\n",
      "\t\t\t},\n",
      "\t\t\t{\n",
      "\t\t\t\t\"LocalName\": \"华东1（杭州）\",\n",
      "\t\t\t\t\"RegionEndpoint\": \"ecs.aliyuncs.com\",\n",
      "\t\t\t\t\"RegionId\": \"cn-hangzhou\"\n",
      "\t\t\t},\n",
      "\t\t\t{\n",
      "\t\t\t\t\"LocalName\": \"华东2（上海）\",\n",
      "\t\t\t\t\"RegionEndpoint\": \"ecs.cn-shanghai.aliyuncs.com\",\n",
      "\t\t\t\t\"RegionId\": \"cn-shanghai\"\n",
      "\t\t\t},\n",
      "\t\t\t{\n",
      "\t\t\t\t\"LocalName\": \"华东5（南京-本地地域）\",\n",
      "\t\t\t\t\"RegionEndpoint\": \"ecs.cn-nanjing.aliyuncs.com\",\n",
      "\t\t\t\t\"RegionId\": \"cn-nanjing\"\n",
      "\t\t\t},\n",
      "\t\t\t{\n",
      "\t\t\t\t\"LocalName\": \"华南1（深圳）\",\n",
      "\t\t\t\t\"RegionEndpoint\": \"ecs.cn-shenzhen.aliyuncs.com\",\n",
      "\t\t\t\t\"RegionId\": \"cn-shenzhen\"\n",
      "\t\t\t},\n",
      "\t\t\t{\n",
      "\t\t\t\t\"LocalName\": \"华南2（河源）\",\n",
      "\t\t\t\t\"RegionEndpoint\": \"ecs.cn-heyuan.aliyuncs.com\",\n",
      "\t\t\t\t\"RegionId\": \"cn-heyuan\"\n",
      "\t\t\t},\n",
      "\t\t\t{\n",
      "\t\t\t\t\"LocalName\": \"华南3（广州）\",\n",
      "\t\t\t\t\"RegionEndpoint\": \"ecs.cn-guangzhou.aliyuncs.com\",\n",
      "\t\t\t\t\"RegionId\": \"cn-guangzhou\"\n",
      "\t\t\t},\n",
      "\t\t\t{\n",
      "\t\t\t\t\"LocalName\": \"华东6（福州-本地地域）\",\n",
      "\t\t\t\t\"RegionEndpoint\": \"ecs.cn-fuzhou.aliyuncs.com\",\n",
      "\t\t\t\t\"RegionId\": \"cn-fuzhou\"\n",
      "\t\t\t},\n",
      "\t\t\t{\n",
      "\t\t\t\t\"LocalName\": \"华中1（武汉-本地地域）\",\n",
      "\t\t\t\t\"RegionEndpoint\": \"ecs.cn-wuhan-lr.aliyuncs.com\",\n",
      "\t\t\t\t\"RegionId\": \"cn-wuhan-lr\"\n",
      "\t\t\t},\n",
      "\t\t\t{\n",
      "\t\t\t\t\"LocalName\": \"西南1（成都）\",\n",
      "\t\t\t\t\"RegionEndpoint\": \"ecs.cn-chengdu.aliyuncs.com\",\n",
      "\t\t\t\t\"RegionId\": \"cn-chengdu\"\n",
      "\t\t\t},\n",
      "\t\t\t{\n",
      "\t\t\t\t\"LocalName\": \"中国香港\",\n",
      "\t\t\t\t\"RegionEndpoint\": \"ecs.cn-hongkong.aliyuncs.com\",\n",
      "\t\t\t\t\"RegionId\": \"cn-hongkong\"\n",
      "\t\t\t},\n",
      "\t\t\t{\n",
      "\t\t\t\t\"LocalName\": \"日本（东京）\",\n",
      "\t\t\t\t\"RegionEndpoint\": \"ecs.ap-northeast-1.aliyuncs.com\",\n",
      "\t\t\t\t\"RegionId\": \"ap-northeast-1\"\n",
      "\t\t\t},\n",
      "\t\t\t{\n",
      "\t\t\t\t\"LocalName\": \"韩国（首尔）\",\n",
      "\t\t\t\t\"RegionEndpoint\": \"ecs.ap-northeast-2.aliyuncs.com\",\n",
      "\t\t\t\t\"RegionId\": \"ap-northeast-2\"\n",
      "\t\t\t},\n",
      "\t\t\t{\n",
      "\t\t\t\t\"LocalName\": \"新加坡\",\n",
      "\t\t\t\t\"RegionEndpoint\": \"ecs.ap-southeast-1.aliyuncs.com\",\n",
      "\t\t\t\t\"RegionId\": \"ap-southeast-1\"\n",
      "\t\t\t},\n",
      "\t\t\t{\n",
      "\t\t\t\t\"LocalName\": \"澳大利亚（悉尼）\",\n",
      "\t\t\t\t\"RegionEndpoint\": \"ecs.ap-southeast-2.aliyuncs.com\",\n",
      "\t\t\t\t\"RegionId\": \"ap-southeast-2\"\n",
      "\t\t\t},\n",
      "\t\t\t{\n",
      "\t\t\t\t\"LocalName\": \"马来西亚（吉隆坡）\",\n",
      "\t\t\t\t\"RegionEndpoint\": \"ecs.ap-southeast-3.aliyuncs.com\",\n",
      "\t\t\t\t\"RegionId\": \"ap-southeast-3\"\n",
      "\t\t\t},\n",
      "\t\t\t{\n",
      "\t\t\t\t\"LocalName\": \"菲律宾（马尼拉）\",\n",
      "\t\t\t\t\"RegionEndpoint\": \"ecs.ap-southeast-6.aliyuncs.com\",\n",
      "\t\t\t\t\"RegionId\": \"ap-southeast-6\"\n",
      "\t\t\t},\n",
      "\t\t\t{\n",
      "\t\t\t\t\"LocalName\": \"印度尼西亚（雅加达）\",\n",
      "\t\t\t\t\"RegionEndpoint\": \"ecs.ap-southeast-5.aliyuncs.com\",\n",
      "\t\t\t\t\"RegionId\": \"ap-southeast-5\"\n",
      "\t\t\t},\n",
      "\t\t\t{\n",
      "\t\t\t\t\"LocalName\": \"印度（孟买）\",\n",
      "\t\t\t\t\"RegionEndpoint\": \"ecs.ap-south-1.aliyuncs.com\",\n",
      "\t\t\t\t\"RegionId\": \"ap-south-1\"\n",
      "\t\t\t},\n",
      "\t\t\t{\n",
      "\t\t\t\t\"LocalName\": \"泰国（曼谷）\",\n",
      "\t\t\t\t\"RegionEndpoint\": \"ecs.ap-southeast-7.aliyuncs.com\",\n",
      "\t\t\t\t\"RegionId\": \"ap-southeast-7\"\n",
      "\t\t\t},\n",
      "\t\t\t{\n",
      "\t\t\t\t\"LocalName\": \"美国（弗吉尼亚）\",\n",
      "\t\t\t\t\"RegionEndpoint\": \"ecs.us-east-1.aliyuncs.com\",\n",
      "\t\t\t\t\"RegionId\": \"us-east-1\"\n",
      "\t\t\t},\n",
      "\t\t\t{\n",
      "\t\t\t\t\"LocalName\": \"美国（硅谷）\",\n",
      "\t\t\t\t\"RegionEndpoint\": \"ecs.us-west-1.aliyuncs.com\",\n",
      "\t\t\t\t\"RegionId\": \"us-west-1\"\n",
      "\t\t\t},\n",
      "\t\t\t{\n",
      "\t\t\t\t\"LocalName\": \"英国（伦敦）\",\n",
      "\t\t\t\t\"RegionEndpoint\": \"ecs.eu-west-1.aliyuncs.com\",\n",
      "\t\t\t\t\"RegionId\": \"eu-west-1\"\n",
      "\t\t\t},\n",
      "\t\t\t{\n",
      "\t\t\t\t\"LocalName\": \"阿联酋（迪拜）\",\n",
      "\t\t\t\t\"RegionEndpoint\": \"ecs.me-east-1.aliyuncs.com\",\n",
      "\t\t\t\t\"RegionId\": \"me-east-1\"\n",
      "\t\t\t},\n",
      "\t\t\t{\n",
      "\t\t\t\t\"LocalName\": \"沙特（利雅得)\",\n",
      "\t\t\t\t\"RegionEndpoint\": \"ecs.me-central-1.aliyuncs.com\",\n",
      "\t\t\t\t\"RegionId\": \"me-central-1\"\n",
      "\t\t\t},\n",
      "\t\t\t{\n",
      "\t\t\t\t\"LocalName\": \"德国（法兰克福）\",\n",
      "\t\t\t\t\"RegionEndpoint\": \"ecs.eu-central-1.aliyuncs.com\",\n",
      "\t\t\t\t\"RegionId\": \"eu-central-1\"\n",
      "\t\t\t}\n",
      "\t\t]\n",
      "\t},\n",
      "\t\"RequestId\": \"2F3433BE-9F39-3F76-A72F-0E071071CE48\"\n",
      "}\n"
     ]
    }
   ],
   "source": [
    "! aliyun ecs DescribeRegions"
   ]
  },
  {
   "cell_type": "code",
   "execution_count": 14,
   "metadata": {},
   "outputs": [
    {
     "name": "stdout",
     "output_type": "stream",
     "text": [
      "env: ALIBABA_CLOUD_REGION_ID=cn-hangzhou\n",
      "cn-hangzhou\n"
     ]
    }
   ],
   "source": [
    "%env \n",
    "! echo $ALIBABA_CLOUD_REGION_ID"
   ]
  },
  {
   "cell_type": "code",
   "execution_count": 21,
   "metadata": {},
   "outputs": [
    {
     "name": "stdout",
     "output_type": "stream",
     "text": [
      "{\n",
      "\t\"RequestId\": \"FE92AA92-4371-327F-A126-244E9E352AC9\",\n",
      "\t\"ResourceGroupId\": \"rg-acfnxrgr6qtm3mq\",\n",
      "\t\"RouteTableId\": \"vtb-gw8e4ofi8yeabmx1tk6r9\",\n",
      "\t\"VRouterId\": \"vrt-gw8frrnb5e501jwhbim9g\",\n",
      "\t\"VpcId\": \"vpc-gw825l1m3o159s2s1065v\"\n",
      "}\n"
     ]
    }
   ],
   "source": [
    "\n"
   ]
  },
  {
   "cell_type": "code",
   "execution_count": 25,
   "metadata": {},
   "outputs": [
    {
     "name": "stdout",
     "output_type": "stream",
     "text": [
      "env: AY_CIDR_BLOCK=192.168.0.0/16\n",
      "env: AY_VPC_NAME=ay-cluster-vpc\n",
      "{\n",
      "\t\"RequestId\": \"139C5753-6C96-3B92-8847-BAA3A9055EDB\",\n",
      "\t\"ResourceGroupId\": \"rg-acfnxrgr6qtm3mq\",\n",
      "\t\"RouteTableId\": \"vtb-gw8i0vr30gcj0rnp5m5fu\",\n",
      "\t\"VRouterId\": \"vrt-gw8cy58ljiubnzs569bt5\",\n",
      "\t\"VpcId\": \"vpc-gw8n23kxppnxrla0i43rc\"\n",
      "}\n"
     ]
    }
   ],
   "source": []
  },
  {
   "cell_type": "code",
   "execution_count": 26,
   "metadata": {},
   "outputs": [
    {
     "name": "stdout",
     "output_type": "stream",
     "text": [
      "env: uala=!echo uala\n"
     ]
    }
   ],
   "source": [
    "%env uala=!echo uala\n"
   ]
  },
  {
   "cell_type": "code",
   "execution_count": null,
   "metadata": {},
   "outputs": [],
   "source": []
  }
 ],
 "metadata": {
  "kernelspec": {
   "display_name": "Python 3 (ipykernel)",
   "language": "python",
   "name": "python3"
  },
  "language_info": {
   "codemirror_mode": {
    "name": "ipython",
    "version": 3
   },
   "file_extension": ".py",
   "mimetype": "text/x-python",
   "name": "python",
   "nbconvert_exporter": "python",
   "pygments_lexer": "ipython3",
   "version": "3.12.2"
  }
 },
 "nbformat": 4,
 "nbformat_minor": 4
}
